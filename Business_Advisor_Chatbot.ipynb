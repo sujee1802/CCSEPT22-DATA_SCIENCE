{
  "nbformat": 4,
  "nbformat_minor": 0,
  "metadata": {
    "colab": {
      "provenance": []
    },
    "kernelspec": {
      "name": "python3",
      "display_name": "Python 3"
    },
    "language_info": {
      "name": "python"
    }
  },
  "cells": [
    {
      "cell_type": "code",
      "execution_count": 1,
      "metadata": {
        "colab": {
          "base_uri": "https://localhost:8080/"
        },
        "id": "v1v4GV2mHfyt",
        "outputId": "7483f323-40aa-463b-cbc1-4732c09b8288"
      },
      "outputs": [
        {
          "output_type": "stream",
          "name": "stdout",
          "text": [
            "Looking in indexes: https://pypi.org/simple, https://us-python.pkg.dev/colab-wheels/public/simple/\n",
            "Requirement already satisfied: nltk in /usr/local/lib/python3.7/dist-packages (3.7)\n",
            "Requirement already satisfied: click in /usr/local/lib/python3.7/dist-packages (from nltk) (7.1.2)\n",
            "Requirement already satisfied: joblib in /usr/local/lib/python3.7/dist-packages (from nltk) (1.1.0)\n",
            "Requirement already satisfied: tqdm in /usr/local/lib/python3.7/dist-packages (from nltk) (4.64.1)\n",
            "Requirement already satisfied: regex>=2021.8.3 in /usr/local/lib/python3.7/dist-packages (from nltk) (2022.6.2)\n"
          ]
        }
      ],
      "source": [
        "pip install nltk"
      ]
    },
    {
      "cell_type": "code",
      "source": [
        "pip install newspaper3k"
      ],
      "metadata": {
        "colab": {
          "base_uri": "https://localhost:8080/"
        },
        "id": "r-cPHa8UH4VL",
        "outputId": "2be9581c-41ca-46c2-9153-8f11083f42ee"
      },
      "execution_count": 3,
      "outputs": [
        {
          "output_type": "stream",
          "name": "stdout",
          "text": [
            "Looking in indexes: https://pypi.org/simple, https://us-python.pkg.dev/colab-wheels/public/simple/\n",
            "Collecting newspaper3k\n",
            "  Downloading newspaper3k-0.2.8-py3-none-any.whl (211 kB)\n",
            "\u001b[K     |████████████████████████████████| 211 kB 2.1 MB/s \n",
            "\u001b[?25hRequirement already satisfied: nltk>=3.2.1 in /usr/local/lib/python3.7/dist-packages (from newspaper3k) (3.7)\n",
            "Collecting jieba3k>=0.35.1\n",
            "  Downloading jieba3k-0.35.1.zip (7.4 MB)\n",
            "\u001b[K     |████████████████████████████████| 7.4 MB 11.7 MB/s \n",
            "\u001b[?25hRequirement already satisfied: lxml>=3.6.0 in /usr/local/lib/python3.7/dist-packages (from newspaper3k) (4.9.1)\n",
            "Collecting cssselect>=0.9.2\n",
            "  Downloading cssselect-1.1.0-py2.py3-none-any.whl (16 kB)\n",
            "Requirement already satisfied: Pillow>=3.3.0 in /usr/local/lib/python3.7/dist-packages (from newspaper3k) (7.1.2)\n",
            "Collecting feedfinder2>=0.0.4\n",
            "  Downloading feedfinder2-0.0.4.tar.gz (3.3 kB)\n",
            "Requirement already satisfied: PyYAML>=3.11 in /usr/local/lib/python3.7/dist-packages (from newspaper3k) (6.0)\n",
            "Collecting feedparser>=5.2.1\n",
            "  Downloading feedparser-6.0.10-py3-none-any.whl (81 kB)\n",
            "\u001b[K     |████████████████████████████████| 81 kB 8.9 MB/s \n",
            "\u001b[?25hRequirement already satisfied: requests>=2.10.0 in /usr/local/lib/python3.7/dist-packages (from newspaper3k) (2.23.0)\n",
            "Collecting tldextract>=2.0.1\n",
            "  Downloading tldextract-3.3.1-py3-none-any.whl (93 kB)\n",
            "\u001b[K     |████████████████████████████████| 93 kB 2.3 MB/s \n",
            "\u001b[?25hRequirement already satisfied: python-dateutil>=2.5.3 in /usr/local/lib/python3.7/dist-packages (from newspaper3k) (2.8.2)\n",
            "Collecting tinysegmenter==0.3\n",
            "  Downloading tinysegmenter-0.3.tar.gz (16 kB)\n",
            "Requirement already satisfied: beautifulsoup4>=4.4.1 in /usr/local/lib/python3.7/dist-packages (from newspaper3k) (4.6.3)\n",
            "Requirement already satisfied: six in /usr/local/lib/python3.7/dist-packages (from feedfinder2>=0.0.4->newspaper3k) (1.15.0)\n",
            "Collecting sgmllib3k\n",
            "  Downloading sgmllib3k-1.0.0.tar.gz (5.8 kB)\n",
            "Requirement already satisfied: joblib in /usr/local/lib/python3.7/dist-packages (from nltk>=3.2.1->newspaper3k) (1.1.0)\n",
            "Requirement already satisfied: click in /usr/local/lib/python3.7/dist-packages (from nltk>=3.2.1->newspaper3k) (7.1.2)\n",
            "Requirement already satisfied: tqdm in /usr/local/lib/python3.7/dist-packages (from nltk>=3.2.1->newspaper3k) (4.64.1)\n",
            "Requirement already satisfied: regex>=2021.8.3 in /usr/local/lib/python3.7/dist-packages (from nltk>=3.2.1->newspaper3k) (2022.6.2)\n",
            "Requirement already satisfied: certifi>=2017.4.17 in /usr/local/lib/python3.7/dist-packages (from requests>=2.10.0->newspaper3k) (2022.6.15)\n",
            "Requirement already satisfied: chardet<4,>=3.0.2 in /usr/local/lib/python3.7/dist-packages (from requests>=2.10.0->newspaper3k) (3.0.4)\n",
            "Requirement already satisfied: idna<3,>=2.5 in /usr/local/lib/python3.7/dist-packages (from requests>=2.10.0->newspaper3k) (2.10)\n",
            "Requirement already satisfied: urllib3!=1.25.0,!=1.25.1,<1.26,>=1.21.1 in /usr/local/lib/python3.7/dist-packages (from requests>=2.10.0->newspaper3k) (1.24.3)\n",
            "Collecting requests-file>=1.4\n",
            "  Downloading requests_file-1.5.1-py2.py3-none-any.whl (3.7 kB)\n",
            "Requirement already satisfied: filelock>=3.0.8 in /usr/local/lib/python3.7/dist-packages (from tldextract>=2.0.1->newspaper3k) (3.8.0)\n",
            "Building wheels for collected packages: tinysegmenter, feedfinder2, jieba3k, sgmllib3k\n",
            "  Building wheel for tinysegmenter (setup.py) ... \u001b[?25l\u001b[?25hdone\n",
            "  Created wheel for tinysegmenter: filename=tinysegmenter-0.3-py3-none-any.whl size=13553 sha256=3809602fa4697a39e2eb3de37155984b575212183bef06d58036087a52fa4b1c\n",
            "  Stored in directory: /root/.cache/pip/wheels/df/67/41/faca10fa501ca010be41b49d40360c2959e1c4f09bcbfa37fa\n",
            "  Building wheel for feedfinder2 (setup.py) ... \u001b[?25l\u001b[?25hdone\n",
            "  Created wheel for feedfinder2: filename=feedfinder2-0.0.4-py3-none-any.whl size=3357 sha256=9b4b02988e811a8fcf2c227cf7480ce4d3e8d785833b39a0e8d427a236e3c667\n",
            "  Stored in directory: /root/.cache/pip/wheels/7f/d4/8f/6e2ca54744c9d7292d88ddb8d42876bcdab5e6d84a21c10346\n",
            "  Building wheel for jieba3k (setup.py) ... \u001b[?25l\u001b[?25hdone\n",
            "  Created wheel for jieba3k: filename=jieba3k-0.35.1-py3-none-any.whl size=7398404 sha256=f1339630d593c438dcc95a1514d86d354f2980d5a8d4a99b3786f0fd2961d544\n",
            "  Stored in directory: /root/.cache/pip/wheels/4c/91/46/3c208287b726df325a5979574324878b679116e4baae1af3c3\n",
            "  Building wheel for sgmllib3k (setup.py) ... \u001b[?25l\u001b[?25hdone\n",
            "  Created wheel for sgmllib3k: filename=sgmllib3k-1.0.0-py3-none-any.whl size=6066 sha256=c9f6d7504fc42143a799c4710699100804792b5b172bdbd9d89f2e3d890dc9d0\n",
            "  Stored in directory: /root/.cache/pip/wheels/73/ad/a4/0dff4a6ef231fc0dfa12ffbac2a36cebfdddfe059f50e019aa\n",
            "Successfully built tinysegmenter feedfinder2 jieba3k sgmllib3k\n",
            "Installing collected packages: sgmllib3k, requests-file, tldextract, tinysegmenter, jieba3k, feedparser, feedfinder2, cssselect, newspaper3k\n",
            "Successfully installed cssselect-1.1.0 feedfinder2-0.0.4 feedparser-6.0.10 jieba3k-0.35.1 newspaper3k-0.2.8 requests-file-1.5.1 sgmllib3k-1.0.0 tinysegmenter-0.3 tldextract-3.3.1\n"
          ]
        }
      ]
    },
    {
      "cell_type": "code",
      "source": [
        "from newspaper import Article \n",
        "import random\n",
        "import string \n",
        "import nltk\n",
        "from sklearn.feature_extraction.text import CountVectorizer\n",
        "from sklearn.metrics.pairwise import cosine_similarity\n",
        "import numpy as np\n",
        "import warnings \n",
        "warnings.filterwarnings('ignore')"
      ],
      "metadata": {
        "id": "xg6Im00LIKMG"
      },
      "execution_count": 4,
      "outputs": []
    },
    {
      "cell_type": "code",
      "source": [
        "nltk.download('punkt', quiet=True)"
      ],
      "metadata": {
        "colab": {
          "base_uri": "https://localhost:8080/"
        },
        "id": "igFtTGdtIONX",
        "outputId": "90f6c336-2adb-4911-82ae-d2422b4bc1d6"
      },
      "execution_count": 5,
      "outputs": [
        {
          "output_type": "execute_result",
          "data": {
            "text/plain": [
              "True"
            ]
          },
          "metadata": {},
          "execution_count": 5
        }
      ]
    },
    {
      "cell_type": "code",
      "source": [
        "article = Article('https://hbr.org/1982/09/consulting-is-more-than-giving-advice')\n",
        "article.download()\n",
        "article.parse()\n",
        "article.nlp()\n",
        "corpus = article.text"
      ],
      "metadata": {
        "id": "zygmTa3vIRZn"
      },
      "execution_count": 6,
      "outputs": []
    },
    {
      "cell_type": "code",
      "source": [
        "print(corpus)"
      ],
      "metadata": {
        "colab": {
          "base_uri": "https://localhost:8080/"
        },
        "id": "ZbqMxV6BJfii",
        "outputId": "5f68c018-9942-4c87-996d-4bd9dd1b2893"
      },
      "execution_count": 7,
      "outputs": [
        {
          "output_type": "stream",
          "name": "stdout",
          "text": [
            "Each year management consultants in the United States receive more than $2 billion for their services.1 Much of this money pays for impractical data and poorly implemented recommendations.2 To reduce this waste, clients need a better understanding of what consulting assignments can accomplish. They need to ask more from such advisers, who in turn must learn to satisfy expanded expectations.\n",
            "\n",
            "This article grows out of current research on effective consulting, including interviews with partners and officers of five well-known firms. It also stems from my experience supervising beginning consultants and from the many conversations and associations I’ve had with consultants and clients in the United States and abroad. These experiences lead me to propose a means of clarifying the purposes of management consulting. When clarity about purpose exists, both parties are more likely to handle the engagement process satisfactorily.\n",
            "\n",
            "A Hierarchy of Purposes\n",
            "\n",
            "Management consulting includes a broad range of activities, and the many firms and their members often define these practices quite differently. One way to categorize the activities is in terms of the professional’s area of expertise (such as competitive analysis, corporate strategy, operations management, or human resources). But in practice, as many differences exist within these categories as between them.\n",
            "\n",
            "<span data-mce-type=\"bookmark\" style=\"display: inline-block; width: 0px; overflow: hidden; line-height: 0;\" class=\"mce_SELRES_start\"></span>\n",
            "\n",
            "<span data-mce-type=\"bookmark\" style=\"display: inline-block; width: 0px; overflow: hidden; line-height: 0;\" class=\"mce_SELRES_start\"></span>\n",
            "\n",
            "Another approach is to view the process as a sequence of phases—entry, contracting, diagnosis, data collection, feedback, implementation, and so on. However, these phases are usually less discrete than most consultants admit.\n",
            "\n",
            "Perhaps a more useful way of analyzing the process is to consider its purposes; clarity about goals certainly influences an engagement’s success. Here are consulting’s eight fundamental objectives, arranged hierarchically:\n",
            "\n",
            "Providing information to a client. Solving a client’s problems. Making a diagnosis, which may necessitate redefinition of the problem. Making recommendations based on the diagnosis. Assisting with implementation of recommended solutions. Building a consensus and commitment around corrective action. Facilitating client learning—that is, teaching clients how to resolve similar problems in the future. Permanently improving organizational effectiveness.\n",
            "\n",
            "The lower-numbered purposes are better understood and practiced and are also more requested by clients. Many consultants, however, aspire to a higher stage on the pyramid than most of their engagements achieve.\n",
            "\n",
            "Purposes 1 through 5 are generally considered legitimate functions, though some controversy surrounds purpose 5. Management consultants are less likely to address purposes 6 through 8 explicitly, and their clients are not as likely to request them. But leading firms and their clients are beginning to approach lower-numbered purposes in ways that involve the other goals as well. Goals 6 through 8 are best considered by-products of earlier purposes, not additional objectives that become relevant only when the other purposes have been achieved. They are essential to effective consulting even if not recognized as explicit goals when the engagement begins.\n",
            "\n",
            "Moving up the pyramid toward more ambitious purposes requires increasing sophistication and skill in the processes of consulting and in managing the consultant-client relationship. Sometimes a professional tries to shift the purpose of an engagement even though a shift is not called for; the firm may have lost track of the line between what’s best for the client and what’s best for the consultant’s business. But reputable consultants do not usually try to prolong engagements or enlarge their scope. Wherever on the pyramid the relationship starts, the outsider’s first job is to address the purpose the client requests. As the need arises, both parties may agree to move to other goals.\n",
            "\n",
            "[ 1 ] Providing Information\n",
            "\n",
            "Perhaps the most common reason for seeking assistance is to obtain information. Compiling it may involve attitude surveys, cost studies, feasibility studies, market surveys, or analyses of the competitive structure of an industry or business. The company may want a consultant’s special expertise or the more accurate, up-to-date information the firm can provide. Or the company may be unable to spare the time and resources to develop the data internally.\n",
            "\n",
            "Often information is all a client wants. But the information a client needs sometimes differs from what the consultant is asked to furnish. One CEO requested a study of whether each vice president generated enough work to have his own secretary. The people he contacted rejected the project because, they said, he already knew the answer and an expensive study wouldn’t convince the vice presidents anyway.\n",
            "\n",
            "Read more about Why Consultants Quit Their Jobs to Go Independent\n",
            "\n",
            "Later, the partner of the consulting firm said, “I frequently ask: What will you do with the information once you’ve got it? Many clients have never thought about that.” Often the client just needs to make better use of data already available. In any case, no outsider can supply useful findings unless he or she understands why the information is sought and how it will be used. Consultants should also determine what relevant information is already on hand.\n",
            "\n",
            "Seemingly impertinent questions from both sides should not be cause for offense—they can be highly productive. Moreover, professionals have a responsibility to explore the underlying needs of their clients. They must respond to requests for data in a way that allows them to decipher and address other needs as an accepted part of the engagement’s agenda.\n",
            "\n",
            "[ 2 ] Solving Problems\n",
            "\n",
            "Managers often give consultants difficult problems to solve. For example, a client might wish to know whether to make or buy a component, acquire or divest a line of business, or change a marketing strategy. Or management may ask how to restructure the organization to be able to adapt more readily to change; which financial policies to adopt; or what the most practical solution is for a problem in compensation, morale, efficiency, internal communication, control, management succession, or whatever.\n",
            "\n",
            "Seeking solutions to problems of this sort is certainly a legitimate function. But the consultant also has a professional responsibility to ask whether the problem as posed is what most needs solving. Very often the client needs help most in defining the real issue; indeed, some authorities argue that executives who can accurately determine the roots of their troubles do not need management consultants at all. Thus the consultant’s first job is to explore the context of the problem. To do so, he or she might ask:\n",
            "\n",
            "Which solutions have been attempted in the past, with what results?\n",
            "\n",
            "What untried steps toward a solution does the client have in mind?\n",
            "\n",
            "Which related aspects of the client’s business are not going well?\n",
            "\n",
            "If the problem is “solved,” how will the solution be applied?\n",
            "\n",
            "What can be done to ensure that the solution wins wide acceptance?\n",
            "\n",
            "A management consultant should neither reject nor accept the client’s initial description too readily. Suppose the problem is presented as low morale and poor performance in the hourly work force. The consultant who buys this definition on faith might spend a lot of time studying symptoms without ever uncovering causes. On the other hand, a consultant who too quickly rejects this way of describing the problem will end a potentially useful consulting process before it begins.\n",
            "\n",
            "When possible, the wiser course is to structure a proposal that focuses on the client’s stated concern at one level while it explores related factors—sometimes sensitive subjects the client is well aware of but has difficulty discussing with an outsider. As the two parties work together, the problem may be redefined. The question may switch from, say, “Why do we have poor hourly attitudes and performance?” to “Why do we have a poor process-scheduling system and low levels of trust within the management team?”\n",
            "\n",
            "Subscribe to our Daily Newsletter Management Tip of the Day Quick, practical management advice to help you do your job better. Sign Up Thanks for subscribing, ! You can view our other newsletters or opt out at any time by managing your email preferences\n",
            "\n",
            "Thus, a useful consulting process involves working with the problem as defined by the client in such a way that more useful definitions emerge naturally as the engagement proceeds. Since most clients—like people in general—are ambivalent about their need for help with their most important problems, the consultant must skillfully respond to the client’s implicit needs. Client managers should understand a consultant’s need to explore a problem before setting out to solve it and should realize that the definition of the most important problem may well shift as the study proceeds. Even the most impatient client is likely to agree that neither a solution to the wrong problem nor a solution that won’t be implemented is helpful.\n",
            "\n",
            "[ 3 ] Effective Diagnosis\n",
            "\n",
            "Much of management consultants’ value lies in their expertise as diagnosticians. Nevertheless, the process by which an accurate diagnosis is formed sometimes strains the consultant-client relationship, since managers are often fearful of uncovering difficult situations for which they might be blamed. Competent diagnosis requires more than an examination of the external environment, the technology and economics of the business, and the behavior of nonmanagerial members of the organization. The consultant must also ask why executives made certain choices that now appear to be mistakes or ignored certain factors that now seem important.\n",
            "\n",
            "Although the need for independent diagnosis is often cited as a reason for using outsiders, drawing members of the client organization into the diagnostic process makes good sense. One consultant explains:\n",
            "\n",
            "We usually insist that client team members be assigned to the project. They, not us, must do the detail work. We’ll help, we’ll push—but they’ll do it. While this is going on, we talk with the CEO every day for an hour or two about the issues that are surfacing, and we meet with the chairman once a week. In this way we diagnose strategic problems in connection with organizational issues. We get some sense of the skills of the key people—what they can do and how they work. When we emerge with strategic and organizational recommendations, they are usually well accepted because they have been thoroughly tested.\n",
            "\n",
            "Clearly, when clients participate in the diagnostic process, they are more likely to acknowledge their role in problems and to accept a redefinition of the consultant’s task. Top firms, therefore, establish such mechanisms as joint consultant-client task forces to work on data analysis and other parts of the diagnostic process. As the process continues, managers naturally begin to implement corrective action without having to wait for formal recommendations.\n",
            "\n",
            "[ 4 ] Recommending Actions\n",
            "\n",
            "The engagement characteristically concludes with a written report or oral presentation that summarizes what the consultant has learned and that recommends in some detail what the client should do. Firms devote a great deal of effort to designing their reports so that the information and analysis are clearly presented and the recommendations are convincingly related to the diagnosis on which they are based. Many people would probably say that the purpose of the engagement is fulfilled when the professional presents a consistent, logical action plan of steps designed to improve the diagnosed problem. The consultant recommends, and the client decides whether and how to implement.\n",
            "\n",
            "Though it may sound like a sensible division of labor, this setup is in many ways simplistic and unsatisfactory. Untold numbers of seemingly convincing reports, submitted at great expense, have no real impact because—due to constraints outside the consultant’s assumed bailiwick—the relationship stops at formulation of theoretically sound recommendations that can’t be implemented.\n",
            "\n",
            "For example, a nationalized public utility in a developing country struggled for years to improve efficiency through tighter financial control of decentralized operations. Recently a professor from the country’s leading management school conducted an extensive study of the utility and submitted 100 pages of recommendations. According to the CEO, this advice ignored big stumbling blocks—civil service regulations, employment conditions, and relations with state and local governments. So the report ended up on the client’s bookshelf next to two other expensive and unimplemented reports by well-known international consulting firms. This sort of thing happens more often than management consultants like to admit, and not only in developing countries.\n",
            "\n",
            "In cases like these, each side blames the other. Reasons are given like “my client lacks the ability or courage to take the necessary steps” or “this consultant did not help translate objectives into actions.” Almost all the managers I interviewed about their experiences as clients complained about impractical recommendations. And consultants frequently blame clients for not having enough sense to do what is obviously needed. Unfortunately, this thinking may lead the client to look for yet another candidate to play the game with one more time. In the most successful relationships, there is not a rigid distinction between roles; formal recommendations should contain no surprises if the client helps develop them and the consultant is concerned with their implementation.\n",
            "\n",
            "[ 5 ] Implementing Changes\n",
            "\n",
            "The consultant’s proper role in implementation is a matter of considerable debate in the profession. Some argue that one who helps put recommendations into effect takes on the role of manager and thus exceeds consulting’s legitimate bounds. Others believe that those who regard implementation solely as the client’s responsibility lack a professional attitude, since recommendations that are not implemented (or are implemented badly) are a waste of money and time. And just as the client may participate in diagnosis without diminishing the value of the consultant’s role, so there are many ways in which the consultant may assist in implementation without usurping the manager’s job.\n",
            "\n",
            "A consultant will often ask for a second engagement to help install a recommended new system. However, if the process to this point has not been collaborative, the client may reject a request to assist with implementation simply because it represents such a sudden shift in the nature of the relationship. Effective work on implementation problems requires a level of trust and cooperation that is developed gradually throughout the engagement.\n",
            "\n",
            "In any successful engagement, the consultant continually strives to understand which actions, if recommended, are likely to be implemented and where people are prepared to do things differently. Recommendations may be confined to those steps the consultant believes will be implemented well. Some may think such sensitivity amounts to telling a client only what he wants to hear. Indeed, a frequent dilemma for experienced consultants is whether they should recommend what they know is right or what they know will be accepted. But if the assignment’s goals include building commitment, encouraging learning, and developing organizational effectiveness, there is little point in recommending actions that will not be taken.\n",
            "\n",
            "A Pervasive Issue\n",
            "\n",
            "Viewing implementation as a central concern influences the professional’s conduct of all phases of the engagement. When a client requests information, the consultant asks how it will be used and what steps have already been taken to acquire it. Then he or she, along with members of the client organization, determines which steps the company is ready to pursue and how to launch further actions. An adviser continually builds support for the implementation phase by asking questions focused on action, repeatedly discussing progress made, and including organization members on the team.\n",
            "\n",
            "It follows that managers should be willing to experiment with new procedures during the course of an engagement—and not wait until the end of the project before beginning to implement change. When innovations prove successful, they are institutionalized more effectively than when simply recommended without some demonstration of their value. For implementation to be truly effective, readiness and commitment to change must be developed, and client members must learn new ways of solving problems to improve organizational performance. How well these goals are achieved depends on how well both parties understand and manage the process of the entire engagement.\n",
            "\n",
            "People are much more likely to use and institutionalize innovations proved successful than recommendations merely set forth on paper. Experiments with implementing procedures during the course of a project rather than after the assignment’s completion have had very good results. All in all, effective implementation requires consensus, commitment, and new problem-solving techniques and management methods.\n",
            "\n",
            "[ 6 ] Building Consensus & Commitment\n",
            "\n",
            "Any engagement’s usefulness to an organization depends on the degree to which members reach accord on the nature of problems and opportunities and on appropriate corrective actions. Otherwise, the diagnosis won’t be accepted, recommendations won’t be implemented, and valid data may be withheld. To provide sound and convincing recommendations, a consultant must be persuasive and have finely tuned analytic skills. But more important is the ability to design and conduct a process for (1) building an agreement about what steps are necessary and (2) establishing the momentum to see these steps through. An observation by one consultant summarizes this well:\n",
            "\n",
            "To me, effective consulting means convincing a client to take some action. But that is the tip of the iceberg. What supports that is establishing enough agreement within the organization that the action makes sense—in other words, not only getting the client to move, but getting enough support so that the movement will be successful. To do that, a consultant needs superb problem-solving techniques and the ability to persuade the client through the logic of his analysis. In addition, enough key players must be on board, each with a stake in the solution, so that it will succeed. So the consultant needs to develop a process through which he can identify whom it is important to involve and how to interest them.\n",
            "\n",
            "Consultants can gauge and develop a client’s readiness and commitment to change by considering the following questions:\n",
            "\n",
            "What information does the client readily accept or resist?\n",
            "\n",
            "What unexpressed motives might there be for seeking our assistance?\n",
            "\n",
            "What kinds of data does this client resist supplying? Why?\n",
            "\n",
            "How willing are members of the organization, individually and together, to work with us on solving these problems and diagnosing this situation?\n",
            "\n",
            "How can we shape the process and influence the relationship to increase the client’s readiness for needed corrective action?\n",
            "\n",
            "Are these executives willing to learn new management methods and practices?\n",
            "\n",
            "Do those at higher levels listen? Will they be influenced by the suggestions of people lower down? If the project increases upward communication, how will top levels of management respond?\n",
            "\n",
            "To what extent will this client regard a contribution to overall organizational effectiveness and adaptability as a legitimate and desirable objective?\n",
            "\n",
            "Managers should not necessarily expect their advisers to ask these questions. But they should expect that consultants will be concerned with issues of this kind during each phase of the engagement.\n",
            "\n",
            "In addition to increasing commitment through client involvement during each phase, the consultant may kindle enthusiasm with the help of an ally from the organization (not necessarily the person most responsible for the engagement). Whatever the ally’s place in the organization, he or she must understand the consultant’s purposes and problems. Such a sponsor can be invaluable in providing insight about the company’s functioning, new sources of information, or possible trouble spots. The role is similar to that of informant-collaborator in field research in cultural anthropology, and it is often most successful when not explicitly sought.\n",
            "\n",
            "If conducted skillfully, interviews to gather information can at the same time build trust and readiness to accept the need for change throughout the organization. The consultant’s approach should demonstrate that the reason for the interviews is not to discover what’s wrong in order to allocate blame but to encourage constructive ideas for improvement. Then members at all levels of the organization come to see the project as helpful, not as unwanted inquisition. By locating potential resistance or acceptance, the interviews help the consultant learn which corrective actions will work and almost always reveal more sound solutions and more willingness to confront difficulty than upper management had expected. And they may also reveal that potential resisters have valid data and viewpoints. Wise consultants learn that “resistance” often indicates sources of especially important and otherwise unobtainable insight.\n",
            "\n",
            "The relationship with the principal client is especially important in developing consensus and commitment. From the beginning, an effective relationship becomes a collaborative search for acceptable answers to the client’s real concerns. Ideally, each meeting involves two-way reporting on what has been done since the last contact and discussion of what both parties should do next. In this way a process of mutual influence develops, with natural shifts in agenda and focus as the project continues.\n",
            "\n",
            "Although I have somewhat exaggerated the level of collaboration usually possible, I am convinced that effective management consulting is difficult unless the relationship moves farther in a collaborative direction than most clients expect. Successful consulting is expensive not only because good consultants’ fees are high but also because senior managers should be involved throughout the process.\n",
            "\n",
            "[ 7 ] Facilitating Client Learning\n",
            "\n",
            "Management consultants like to leave behind something of lasting value. This means not only enhancing clients’ ability to deal with immediate issues but also helping them learn methods needed to cope with future challenges. This does not imply that effective professionals work themselves out of a job. Satisfied clients will recommend them to others and will invite them back the next time there is a need.\n",
            "\n",
            "Consultants facilitate learning by including members of the organization in the assignment’s processes. For example, demonstrating an appropriate technique or recommending a relevant book often accomplishes more than quietly performing a needed analysis. When the task requires a method outside the professional’s area of expertise, he or she may recommend other consultants or educational programs. However, some members of management may need to acquire complex skills that they can learn only through guided experience over time.\n",
            "\n",
            "With strong client involvement in the entire process, there will be many opportunities to help members identify learning needs. Often a consultant can suggest or help design opportunities for learning about work-planning methods, task force assignments, goal-setting processes, and so on. Though the effective professional is concerned with executive learning throughout the engagement, it may be wise not to cite this as an explicit goal. Managers may not like the idea of being “taught to manage.” Too much talk about client learning comes across as presumptuous—and it is.\n",
            "\n",
            "Learning during projects is a two-way street. In every engagement, consultants should learn how to be more effective in designing and conducting projects. Moreover, the professional’s willingness to learn can be contagious. In the best relationships, each party explores the experience with the other in order to learn more from it.3\n",
            "\n",
            "[ 8 ] Organizational Effectiveness\n",
            "\n",
            "Sometimes successful implementation requires not only new management concepts and techniques but also different attitudes regarding management functions and prerogatives or even changes in how the basic purpose of the organization is defined and carried out. The term organizational effectiveness is used to imply the ability to adapt future strategy and behavior to environmental change and to optimize the contribution of the organization’s human resources.\n",
            "\n",
            "Consultants who include this purpose in their practice contribute to top management’s most important task—maintaining the organization’s future viability in a changing world. This may seem too vast a goal for many engagements. But just as a physician who tries to improve the functioning of one organ may contribute to the health of the whole organism, the professional is concerned with the company as a whole even when the immediate assignment is limited.\n",
            "\n",
            "Many projects produce change in one aspect of an organization’s functioning that does not last or that proves counterproductive because it doesn’t mesh with other aspects of the system. If lower-level employees in one department assume new responsibilities, friction may result in another department. Or a new marketing strategy that makes great sense because of changes in the environment might flounder because of its unforeseen impact on production and scheduling. Because such repercussions are likely, clients should recognize that unless recommendations take into account the entire picture, they may be impossible to implement or may create future difficulties elsewhere in the company.\n",
            "\n",
            "Promoting overall effectiveness is part of each step. While listening to a client’s concerns about one department, the consultant should relate them to what’s happening elsewhere. While working on current issues, he or she should also think about future needs. When absorbing managers’ explanations of why progress is difficult, the consultant should consider other possible barriers as well. In these ways, the professional contributes to overall effectiveness by addressing immediate issues with sensitivity to their larger contexts. And clients should not automatically assume that consultants who raise broader questions are only trying to snare more work for themselves. To look at how the client’s immediate concern fits into the whole picture is, after all, the professional’s responsibility.\n",
            "\n",
            "Important change in utilization of human resources seldom happens just because an adviser recommends it. Professionals can have more influence through the methods they demonstrate in conducting the consulting process itself. For example, if consultants believe that parts of an organization need to communicate better, they can consistently solicit others’ thoughts on what’s being discussed or suggest project task forces of people from different levels or departments. When a manager discovers that an adviser’s secret weapon in solving some problem was not sophisticated analysis but simply (and skillfully) asking the people most closely involved for their suggestions, the manager learns the value of better upward communication. The best professionals encourage clients to improve organizational effectiveness not by writing reports or recommending books on the subject but by modeling methods of motivation that work well.\n",
            "\n",
            "The Preying Mantis Of all the businesses, by far,\n",
            "\n",
            "Consultancy’s the most bizarre.\n",
            "\n",
            "For, to the penetrating eye,\n",
            "\n",
            "There’s no apparent reason why,\n",
            "\n",
            "With no more assets than a pen,\n",
            "\n",
            "This group of personable men\n",
            "\n",
            "Can sell to clients more than twice\n",
            "\n",
            "The same ridiculous advice,\n",
            "\n",
            "Or find, in such a rich profusion,\n",
            "\n",
            "Problems to fit their own solution.\n",
            "\n",
            "The strategy that they pursue—\n",
            "\n",
            "To give advice instead of do—\n",
            "\n",
            "Keeps their fingers on the pulses\n",
            "\n",
            "Without recourse to stomach ulcers,\n",
            "\n",
            "And brings them monetary gain,\n",
            "\n",
            "Without a modicum of pain.\n",
            "\n",
            "The wretched object of their quest,\n",
            "\n",
            "Reduced to cardiac arrest,\n",
            "\n",
            "Is left alone to implement\n",
            "\n",
            "The asinine report they’ve sent.\n",
            "\n",
            "Meanwhile the analysts have gone\n",
            "\n",
            "Back to client number one,\n",
            "\n",
            "Who desperately needs their aid\n",
            "\n",
            "To tidy up the mess they made.\n",
            "\n",
            "An on and on—ad infinitum—\n",
            "\n",
            "The masochistic clients invite ’em.\n",
            "\n",
            "Until the merciful reliever\n",
            "\n",
            "Invokes the company receiver.\n",
            "\n",
            "No one really seems to know\n",
            "\n",
            "The rate at which consultants grow,\n",
            "\n",
            "By some amoeba-like division?\n",
            "\n",
            "Or chemo-biologic fission?\n",
            "\n",
            "They clone themselves without an end\n",
            "\n",
            "Along their exponential trend.\n",
            "\n",
            "The paradox is each adviser,\n",
            "\n",
            "If he makes his client wiser,\n",
            "\n",
            "Inadvertently destroys\n",
            "\n",
            "The basis of his future joys.\n",
            "\n",
            "So does anybody know\n",
            "\n",
            "Where latter-day consultants go?\n",
            "\n",
            "Consultants are not crusaders bent on reforming management styles and assumptions. But a professional diagnosis should include assessment of overall organizational effectiveness, and the consulting process should help lower whatever barriers to improvement are discovered. Good advisers are practitioners, not preachers, but their practices are consistent with their beliefs. When the consulting process stimulates experiments with more effective ways of managing, it can make its most valuable contribution to management practice.\n",
            "\n",
            "More Emphasis on Process\n",
            "\n",
            "Increasing consensus, commitment, learning, and future effectiveness are not proposed as substitutes for the more customary purposes of management consulting but as desirable outcomes of any really effective consulting process. The extent to which they can be built into methods of achieving more traditional goals depends on the understanding and skill with which the whole consulting relationship is managed. Such purposes have received more attention in organization development literature and in the writings of behavioral consultants than in the field of management consulting. (For recommended reading in these fields, see the sidebar, “Selected Readings.”) But behavioral objectives can best be achieved when integrated with more traditional approaches. And clients have a right to expect that all management consultants, whatever their specialty, are sensitive to human relationships and processes and skilled in improving the organization’s ability to solve future as well as present problems.\n",
            "\n",
            "Selected Readings Works by behavioral scientists or about behavioral consulting: Chris Argyris, Intervention Theory and Method (Reading, Mass.: Addison-Wesley, 1970). Chris Argyris and Donald A. Schon, Organizational Learning: A Theory of Action Perspective (Reading, Mass.: Addison-Wesley, 1978). Michael Beer, Organizational Change and Development: A Systems View (Santa Monica, Calif.: Goodyear, 1980). Peter Block, Flawless Consulting: A Guide to Getting Your Expertise Used (Austin, Texas: Learning Concepts, 1981). David Kolb and Alan L. Frohman, “An Organization Development Approach to Consulting,” Sloan Management Review, Fall 1970, p. 51. John P. Kotter, Organizational Dynamics: Diagnosis and Intervention (Reading, Mass.: Addison-Wesley, 1978). Gordon Lippitt and Ronald Lippitt, The Consulting Process in Action (La Jolla, Calif.: University Associates, 1978). Edgar H. Schein, Process Consultation: Its Role in Organization Development (Reading, Mass.: Addison-Wesley, 1969). Fritz Steele, Consulting for Organizational Change (Amherst: University of Massachusetts Press, 1975). Works by management consultants or about management consulting: Larry E. Greiner and Robert O. Metzger, Consulting to Management (Englewood Cliffs, N.J.: Prentice-Hall, 1982). Robert E. Kelley, Consulting (New York: Charles Scribner’s Sons, 1981). Allan A. Kennedy, “One ‘Perspective’ on the Consulting Process,” Exchange: The Organizational Behavior Teaching Journal, Summer, 1979, p. 18 Allan A. Kennedy, “Ruminations on Change: The Incredible Value of Human Beings in Getting Things Done,” Exchange: The Organizational Behavior Teaching Journal, vol. 6, no. 1, 1981, p.4. Milan Kubr, Management Consulting: A Guide to the Profession (Geneva: International Labour Office, rev. ed., 1976). Jeremiah J. O’Connell, Managing Organizational Innovation (Homewood, Ill.: Richard D. Irwin, Inc., 1968). Robert H. Schaffer, “Advice to Internal and External Consultants: Expand Your Client’s Capacity to Use Your Help,” S.A.M. Advanced Management Journal, Autumn 1976, p. 39. Robert H. Schaffer, “Make Success the Building Block,” Management Review, August 1981, p. 46. Seymour Tilles, “Understanding the Consultant’s Role,” HBR November–December 1961, p. 87.\n",
            "\n",
            "The idea that consulting success depends solely on analytic expertise and on an ability to present convincing reports is losing ground, partly because there are now more people within organizations with the required analytic techniques than in the boom years of “strategy consulting.” Increasingly, the best management consultants define their objective as not just recommending solutions but also helping institutionalize more effective management processes.\n",
            "\n",
            "This trend is significant to consulting firms because it requires process skills that need more emphasis in firms’ recruitment and staff development policies. It is equally significant to managers who need not just expert advice but also practical help in improving the organization’s future performance.\n",
            "\n",
            "As managers understand the broader range of purposes that excellent consulting can help achieve, they will select consultants more wisely and expect more of value from them. And as clients learn how to express new needs, good consultants learn how to address them.\n",
            "\n",
            "James H. Kennedy, ed., Directory of Management Consultants, (Fitzwilliam, N.H.: Consultant’s News, 1979). See Jean Pierre Frankenhuis, “How to Get a Good Consultant,” HBR November–December 1977, p. 133. For an excellent discussion of learning from consulting, see Fritz Steele, Consulting for Organizational Change (Amherst: University of Massachusetts Press, 1975), pp. 11–33 and 190–200.\n"
          ]
        }
      ]
    },
    {
      "cell_type": "code",
      "source": [
        "text = corpus\n",
        "sentence_list = nltk.sent_tokenize(text)"
      ],
      "metadata": {
        "id": "Cv04tC1ZJrEE"
      },
      "execution_count": 8,
      "outputs": []
    },
    {
      "cell_type": "code",
      "source": [
        "print(sentence_list)"
      ],
      "metadata": {
        "colab": {
          "base_uri": "https://localhost:8080/"
        },
        "id": "-CfKW9K0Jwln",
        "outputId": "1adaa793-5099-4580-f196-725091d95e24"
      },
      "execution_count": 9,
      "outputs": [
        {
          "output_type": "stream",
          "name": "stdout",
          "text": [
            "['Each year management consultants in the United States receive more than $2 billion for their services.1 Much of this money pays for impractical data and poorly implemented recommendations.2 To reduce this waste, clients need a better understanding of what consulting assignments can accomplish.', 'They need to ask more from such advisers, who in turn must learn to satisfy expanded expectations.', 'This article grows out of current research on effective consulting, including interviews with partners and officers of five well-known firms.', 'It also stems from my experience supervising beginning consultants and from the many conversations and associations I’ve had with consultants and clients in the United States and abroad.', 'These experiences lead me to propose a means of clarifying the purposes of management consulting.', 'When clarity about purpose exists, both parties are more likely to handle the engagement process satisfactorily.', 'A Hierarchy of Purposes\\n\\nManagement consulting includes a broad range of activities, and the many firms and their members often define these practices quite differently.', 'One way to categorize the activities is in terms of the professional’s area of expertise (such as competitive analysis, corporate strategy, operations management, or human resources).', 'But in practice, as many differences exist within these categories as between them.', '<span data-mce-type=\"bookmark\" style=\"display: inline-block; width: 0px; overflow: hidden; line-height: 0;\" class=\"mce_SELRES_start\"></span>\\n\\n<span data-mce-type=\"bookmark\" style=\"display: inline-block; width: 0px; overflow: hidden; line-height: 0;\" class=\"mce_SELRES_start\"></span>\\n\\nAnother approach is to view the process as a sequence of phases—entry, contracting, diagnosis, data collection, feedback, implementation, and so on.', 'However, these phases are usually less discrete than most consultants admit.', 'Perhaps a more useful way of analyzing the process is to consider its purposes; clarity about goals certainly influences an engagement’s success.', 'Here are consulting’s eight fundamental objectives, arranged hierarchically:\\n\\nProviding information to a client.', 'Solving a client’s problems.', 'Making a diagnosis, which may necessitate redefinition of the problem.', 'Making recommendations based on the diagnosis.', 'Assisting with implementation of recommended solutions.', 'Building a consensus and commitment around corrective action.', 'Facilitating client learning—that is, teaching clients how to resolve similar problems in the future.', 'Permanently improving organizational effectiveness.', 'The lower-numbered purposes are better understood and practiced and are also more requested by clients.', 'Many consultants, however, aspire to a higher stage on the pyramid than most of their engagements achieve.', 'Purposes 1 through 5 are generally considered legitimate functions, though some controversy surrounds purpose 5.', 'Management consultants are less likely to address purposes 6 through 8 explicitly, and their clients are not as likely to request them.', 'But leading firms and their clients are beginning to approach lower-numbered purposes in ways that involve the other goals as well.', 'Goals 6 through 8 are best considered by-products of earlier purposes, not additional objectives that become relevant only when the other purposes have been achieved.', 'They are essential to effective consulting even if not recognized as explicit goals when the engagement begins.', 'Moving up the pyramid toward more ambitious purposes requires increasing sophistication and skill in the processes of consulting and in managing the consultant-client relationship.', 'Sometimes a professional tries to shift the purpose of an engagement even though a shift is not called for; the firm may have lost track of the line between what’s best for the client and what’s best for the consultant’s business.', 'But reputable consultants do not usually try to prolong engagements or enlarge their scope.', 'Wherever on the pyramid the relationship starts, the outsider’s first job is to address the purpose the client requests.', 'As the need arises, both parties may agree to move to other goals.', '[ 1 ] Providing Information\\n\\nPerhaps the most common reason for seeking assistance is to obtain information.', 'Compiling it may involve attitude surveys, cost studies, feasibility studies, market surveys, or analyses of the competitive structure of an industry or business.', 'The company may want a consultant’s special expertise or the more accurate, up-to-date information the firm can provide.', 'Or the company may be unable to spare the time and resources to develop the data internally.', 'Often information is all a client wants.', 'But the information a client needs sometimes differs from what the consultant is asked to furnish.', 'One CEO requested a study of whether each vice president generated enough work to have his own secretary.', 'The people he contacted rejected the project because, they said, he already knew the answer and an expensive study wouldn’t convince the vice presidents anyway.', 'Read more about Why Consultants Quit Their Jobs to Go Independent\\n\\nLater, the partner of the consulting firm said, “I frequently ask: What will you do with the information once you’ve got it?', 'Many clients have never thought about that.” Often the client just needs to make better use of data already available.', 'In any case, no outsider can supply useful findings unless he or she understands why the information is sought and how it will be used.', 'Consultants should also determine what relevant information is already on hand.', 'Seemingly impertinent questions from both sides should not be cause for offense—they can be highly productive.', 'Moreover, professionals have a responsibility to explore the underlying needs of their clients.', 'They must respond to requests for data in a way that allows them to decipher and address other needs as an accepted part of the engagement’s agenda.', '[ 2 ] Solving Problems\\n\\nManagers often give consultants difficult problems to solve.', 'For example, a client might wish to know whether to make or buy a component, acquire or divest a line of business, or change a marketing strategy.', 'Or management may ask how to restructure the organization to be able to adapt more readily to change; which financial policies to adopt; or what the most practical solution is for a problem in compensation, morale, efficiency, internal communication, control, management succession, or whatever.', 'Seeking solutions to problems of this sort is certainly a legitimate function.', 'But the consultant also has a professional responsibility to ask whether the problem as posed is what most needs solving.', 'Very often the client needs help most in defining the real issue; indeed, some authorities argue that executives who can accurately determine the roots of their troubles do not need management consultants at all.', 'Thus the consultant’s first job is to explore the context of the problem.', 'To do so, he or she might ask:\\n\\nWhich solutions have been attempted in the past, with what results?', 'What untried steps toward a solution does the client have in mind?', 'Which related aspects of the client’s business are not going well?', 'If the problem is “solved,” how will the solution be applied?', 'What can be done to ensure that the solution wins wide acceptance?', 'A management consultant should neither reject nor accept the client’s initial description too readily.', 'Suppose the problem is presented as low morale and poor performance in the hourly work force.', 'The consultant who buys this definition on faith might spend a lot of time studying symptoms without ever uncovering causes.', 'On the other hand, a consultant who too quickly rejects this way of describing the problem will end a potentially useful consulting process before it begins.', 'When possible, the wiser course is to structure a proposal that focuses on the client’s stated concern at one level while it explores related factors—sometimes sensitive subjects the client is well aware of but has difficulty discussing with an outsider.', 'As the two parties work together, the problem may be redefined.', 'The question may switch from, say, “Why do we have poor hourly attitudes and performance?” to “Why do we have a poor process-scheduling system and low levels of trust within the management team?”\\n\\nSubscribe to our Daily Newsletter Management Tip of the Day Quick, practical management advice to help you do your job better.', 'Sign Up Thanks for subscribing, !', 'You can view our other newsletters or opt out at any time by managing your email preferences\\n\\nThus, a useful consulting process involves working with the problem as defined by the client in such a way that more useful definitions emerge naturally as the engagement proceeds.', 'Since most clients—like people in general—are ambivalent about their need for help with their most important problems, the consultant must skillfully respond to the client’s implicit needs.', 'Client managers should understand a consultant’s need to explore a problem before setting out to solve it and should realize that the definition of the most important problem may well shift as the study proceeds.', 'Even the most impatient client is likely to agree that neither a solution to the wrong problem nor a solution that won’t be implemented is helpful.', '[ 3 ] Effective Diagnosis\\n\\nMuch of management consultants’ value lies in their expertise as diagnosticians.', 'Nevertheless, the process by which an accurate diagnosis is formed sometimes strains the consultant-client relationship, since managers are often fearful of uncovering difficult situations for which they might be blamed.', 'Competent diagnosis requires more than an examination of the external environment, the technology and economics of the business, and the behavior of nonmanagerial members of the organization.', 'The consultant must also ask why executives made certain choices that now appear to be mistakes or ignored certain factors that now seem important.', 'Although the need for independent diagnosis is often cited as a reason for using outsiders, drawing members of the client organization into the diagnostic process makes good sense.', 'One consultant explains:\\n\\nWe usually insist that client team members be assigned to the project.', 'They, not us, must do the detail work.', 'We’ll help, we’ll push—but they’ll do it.', 'While this is going on, we talk with the CEO every day for an hour or two about the issues that are surfacing, and we meet with the chairman once a week.', 'In this way we diagnose strategic problems in connection with organizational issues.', 'We get some sense of the skills of the key people—what they can do and how they work.', 'When we emerge with strategic and organizational recommendations, they are usually well accepted because they have been thoroughly tested.', 'Clearly, when clients participate in the diagnostic process, they are more likely to acknowledge their role in problems and to accept a redefinition of the consultant’s task.', 'Top firms, therefore, establish such mechanisms as joint consultant-client task forces to work on data analysis and other parts of the diagnostic process.', 'As the process continues, managers naturally begin to implement corrective action without having to wait for formal recommendations.', '[ 4 ] Recommending Actions\\n\\nThe engagement characteristically concludes with a written report or oral presentation that summarizes what the consultant has learned and that recommends in some detail what the client should do.', 'Firms devote a great deal of effort to designing their reports so that the information and analysis are clearly presented and the recommendations are convincingly related to the diagnosis on which they are based.', 'Many people would probably say that the purpose of the engagement is fulfilled when the professional presents a consistent, logical action plan of steps designed to improve the diagnosed problem.', 'The consultant recommends, and the client decides whether and how to implement.', 'Though it may sound like a sensible division of labor, this setup is in many ways simplistic and unsatisfactory.', 'Untold numbers of seemingly convincing reports, submitted at great expense, have no real impact because—due to constraints outside the consultant’s assumed bailiwick—the relationship stops at formulation of theoretically sound recommendations that can’t be implemented.', 'For example, a nationalized public utility in a developing country struggled for years to improve efficiency through tighter financial control of decentralized operations.', 'Recently a professor from the country’s leading management school conducted an extensive study of the utility and submitted 100 pages of recommendations.', 'According to the CEO, this advice ignored big stumbling blocks—civil service regulations, employment conditions, and relations with state and local governments.', 'So the report ended up on the client’s bookshelf next to two other expensive and unimplemented reports by well-known international consulting firms.', 'This sort of thing happens more often than management consultants like to admit, and not only in developing countries.', 'In cases like these, each side blames the other.', 'Reasons are given like “my client lacks the ability or courage to take the necessary steps” or “this consultant did not help translate objectives into actions.” Almost all the managers I interviewed about their experiences as clients complained about impractical recommendations.', 'And consultants frequently blame clients for not having enough sense to do what is obviously needed.', 'Unfortunately, this thinking may lead the client to look for yet another candidate to play the game with one more time.', 'In the most successful relationships, there is not a rigid distinction between roles; formal recommendations should contain no surprises if the client helps develop them and the consultant is concerned with their implementation.', '[ 5 ] Implementing Changes\\n\\nThe consultant’s proper role in implementation is a matter of considerable debate in the profession.', 'Some argue that one who helps put recommendations into effect takes on the role of manager and thus exceeds consulting’s legitimate bounds.', 'Others believe that those who regard implementation solely as the client’s responsibility lack a professional attitude, since recommendations that are not implemented (or are implemented badly) are a waste of money and time.', 'And just as the client may participate in diagnosis without diminishing the value of the consultant’s role, so there are many ways in which the consultant may assist in implementation without usurping the manager’s job.', 'A consultant will often ask for a second engagement to help install a recommended new system.', 'However, if the process to this point has not been collaborative, the client may reject a request to assist with implementation simply because it represents such a sudden shift in the nature of the relationship.', 'Effective work on implementation problems requires a level of trust and cooperation that is developed gradually throughout the engagement.', 'In any successful engagement, the consultant continually strives to understand which actions, if recommended, are likely to be implemented and where people are prepared to do things differently.', 'Recommendations may be confined to those steps the consultant believes will be implemented well.', 'Some may think such sensitivity amounts to telling a client only what he wants to hear.', 'Indeed, a frequent dilemma for experienced consultants is whether they should recommend what they know is right or what they know will be accepted.', 'But if the assignment’s goals include building commitment, encouraging learning, and developing organizational effectiveness, there is little point in recommending actions that will not be taken.', 'A Pervasive Issue\\n\\nViewing implementation as a central concern influences the professional’s conduct of all phases of the engagement.', 'When a client requests information, the consultant asks how it will be used and what steps have already been taken to acquire it.', 'Then he or she, along with members of the client organization, determines which steps the company is ready to pursue and how to launch further actions.', 'An adviser continually builds support for the implementation phase by asking questions focused on action, repeatedly discussing progress made, and including organization members on the team.', 'It follows that managers should be willing to experiment with new procedures during the course of an engagement—and not wait until the end of the project before beginning to implement change.', 'When innovations prove successful, they are institutionalized more effectively than when simply recommended without some demonstration of their value.', 'For implementation to be truly effective, readiness and commitment to change must be developed, and client members must learn new ways of solving problems to improve organizational performance.', 'How well these goals are achieved depends on how well both parties understand and manage the process of the entire engagement.', 'People are much more likely to use and institutionalize innovations proved successful than recommendations merely set forth on paper.', 'Experiments with implementing procedures during the course of a project rather than after the assignment’s completion have had very good results.', 'All in all, effective implementation requires consensus, commitment, and new problem-solving techniques and management methods.', '[ 6 ] Building Consensus & Commitment\\n\\nAny engagement’s usefulness to an organization depends on the degree to which members reach accord on the nature of problems and opportunities and on appropriate corrective actions.', 'Otherwise, the diagnosis won’t be accepted, recommendations won’t be implemented, and valid data may be withheld.', 'To provide sound and convincing recommendations, a consultant must be persuasive and have finely tuned analytic skills.', 'But more important is the ability to design and conduct a process for (1) building an agreement about what steps are necessary and (2) establishing the momentum to see these steps through.', 'An observation by one consultant summarizes this well:\\n\\nTo me, effective consulting means convincing a client to take some action.', 'But that is the tip of the iceberg.', 'What supports that is establishing enough agreement within the organization that the action makes sense—in other words, not only getting the client to move, but getting enough support so that the movement will be successful.', 'To do that, a consultant needs superb problem-solving techniques and the ability to persuade the client through the logic of his analysis.', 'In addition, enough key players must be on board, each with a stake in the solution, so that it will succeed.', 'So the consultant needs to develop a process through which he can identify whom it is important to involve and how to interest them.', 'Consultants can gauge and develop a client’s readiness and commitment to change by considering the following questions:\\n\\nWhat information does the client readily accept or resist?', 'What unexpressed motives might there be for seeking our assistance?', 'What kinds of data does this client resist supplying?', 'Why?', 'How willing are members of the organization, individually and together, to work with us on solving these problems and diagnosing this situation?', 'How can we shape the process and influence the relationship to increase the client’s readiness for needed corrective action?', 'Are these executives willing to learn new management methods and practices?', 'Do those at higher levels listen?', 'Will they be influenced by the suggestions of people lower down?', 'If the project increases upward communication, how will top levels of management respond?', 'To what extent will this client regard a contribution to overall organizational effectiveness and adaptability as a legitimate and desirable objective?', 'Managers should not necessarily expect their advisers to ask these questions.', 'But they should expect that consultants will be concerned with issues of this kind during each phase of the engagement.', 'In addition to increasing commitment through client involvement during each phase, the consultant may kindle enthusiasm with the help of an ally from the organization (not necessarily the person most responsible for the engagement).', 'Whatever the ally’s place in the organization, he or she must understand the consultant’s purposes and problems.', 'Such a sponsor can be invaluable in providing insight about the company’s functioning, new sources of information, or possible trouble spots.', 'The role is similar to that of informant-collaborator in field research in cultural anthropology, and it is often most successful when not explicitly sought.', 'If conducted skillfully, interviews to gather information can at the same time build trust and readiness to accept the need for change throughout the organization.', 'The consultant’s approach should demonstrate that the reason for the interviews is not to discover what’s wrong in order to allocate blame but to encourage constructive ideas for improvement.', 'Then members at all levels of the organization come to see the project as helpful, not as unwanted inquisition.', 'By locating potential resistance or acceptance, the interviews help the consultant learn which corrective actions will work and almost always reveal more sound solutions and more willingness to confront difficulty than upper management had expected.', 'And they may also reveal that potential resisters have valid data and viewpoints.', 'Wise consultants learn that “resistance” often indicates sources of especially important and otherwise unobtainable insight.', 'The relationship with the principal client is especially important in developing consensus and commitment.', 'From the beginning, an effective relationship becomes a collaborative search for acceptable answers to the client’s real concerns.', 'Ideally, each meeting involves two-way reporting on what has been done since the last contact and discussion of what both parties should do next.', 'In this way a process of mutual influence develops, with natural shifts in agenda and focus as the project continues.', 'Although I have somewhat exaggerated the level of collaboration usually possible, I am convinced that effective management consulting is difficult unless the relationship moves farther in a collaborative direction than most clients expect.', 'Successful consulting is expensive not only because good consultants’ fees are high but also because senior managers should be involved throughout the process.', '[ 7 ] Facilitating Client Learning\\n\\nManagement consultants like to leave behind something of lasting value.', 'This means not only enhancing clients’ ability to deal with immediate issues but also helping them learn methods needed to cope with future challenges.', 'This does not imply that effective professionals work themselves out of a job.', 'Satisfied clients will recommend them to others and will invite them back the next time there is a need.', 'Consultants facilitate learning by including members of the organization in the assignment’s processes.', 'For example, demonstrating an appropriate technique or recommending a relevant book often accomplishes more than quietly performing a needed analysis.', 'When the task requires a method outside the professional’s area of expertise, he or she may recommend other consultants or educational programs.', 'However, some members of management may need to acquire complex skills that they can learn only through guided experience over time.', 'With strong client involvement in the entire process, there will be many opportunities to help members identify learning needs.', 'Often a consultant can suggest or help design opportunities for learning about work-planning methods, task force assignments, goal-setting processes, and so on.', 'Though the effective professional is concerned with executive learning throughout the engagement, it may be wise not to cite this as an explicit goal.', 'Managers may not like the idea of being “taught to manage.” Too much talk about client learning comes across as presumptuous—and it is.', 'Learning during projects is a two-way street.', 'In every engagement, consultants should learn how to be more effective in designing and conducting projects.', 'Moreover, the professional’s willingness to learn can be contagious.', 'In the best relationships, each party explores the experience with the other in order to learn more from it.3\\n\\n[ 8 ] Organizational Effectiveness\\n\\nSometimes successful implementation requires not only new management concepts and techniques but also different attitudes regarding management functions and prerogatives or even changes in how the basic purpose of the organization is defined and carried out.', 'The term organizational effectiveness is used to imply the ability to adapt future strategy and behavior to environmental change and to optimize the contribution of the organization’s human resources.', 'Consultants who include this purpose in their practice contribute to top management’s most important task—maintaining the organization’s future viability in a changing world.', 'This may seem too vast a goal for many engagements.', 'But just as a physician who tries to improve the functioning of one organ may contribute to the health of the whole organism, the professional is concerned with the company as a whole even when the immediate assignment is limited.', 'Many projects produce change in one aspect of an organization’s functioning that does not last or that proves counterproductive because it doesn’t mesh with other aspects of the system.', 'If lower-level employees in one department assume new responsibilities, friction may result in another department.', 'Or a new marketing strategy that makes great sense because of changes in the environment might flounder because of its unforeseen impact on production and scheduling.', 'Because such repercussions are likely, clients should recognize that unless recommendations take into account the entire picture, they may be impossible to implement or may create future difficulties elsewhere in the company.', 'Promoting overall effectiveness is part of each step.', 'While listening to a client’s concerns about one department, the consultant should relate them to what’s happening elsewhere.', 'While working on current issues, he or she should also think about future needs.', 'When absorbing managers’ explanations of why progress is difficult, the consultant should consider other possible barriers as well.', 'In these ways, the professional contributes to overall effectiveness by addressing immediate issues with sensitivity to their larger contexts.', 'And clients should not automatically assume that consultants who raise broader questions are only trying to snare more work for themselves.', 'To look at how the client’s immediate concern fits into the whole picture is, after all, the professional’s responsibility.', 'Important change in utilization of human resources seldom happens just because an adviser recommends it.', 'Professionals can have more influence through the methods they demonstrate in conducting the consulting process itself.', 'For example, if consultants believe that parts of an organization need to communicate better, they can consistently solicit others’ thoughts on what’s being discussed or suggest project task forces of people from different levels or departments.', 'When a manager discovers that an adviser’s secret weapon in solving some problem was not sophisticated analysis but simply (and skillfully) asking the people most closely involved for their suggestions, the manager learns the value of better upward communication.', 'The best professionals encourage clients to improve organizational effectiveness not by writing reports or recommending books on the subject but by modeling methods of motivation that work well.', 'The Preying Mantis Of all the businesses, by far,\\n\\nConsultancy’s the most bizarre.', 'For, to the penetrating eye,\\n\\nThere’s no apparent reason why,\\n\\nWith no more assets than a pen,\\n\\nThis group of personable men\\n\\nCan sell to clients more than twice\\n\\nThe same ridiculous advice,\\n\\nOr find, in such a rich profusion,\\n\\nProblems to fit their own solution.', 'The strategy that they pursue—\\n\\nTo give advice instead of do—\\n\\nKeeps their fingers on the pulses\\n\\nWithout recourse to stomach ulcers,\\n\\nAnd brings them monetary gain,\\n\\nWithout a modicum of pain.', 'The wretched object of their quest,\\n\\nReduced to cardiac arrest,\\n\\nIs left alone to implement\\n\\nThe asinine report they’ve sent.', 'Meanwhile the analysts have gone\\n\\nBack to client number one,\\n\\nWho desperately needs their aid\\n\\nTo tidy up the mess they made.', 'An on and on—ad infinitum—\\n\\nThe masochistic clients invite ’em.', 'Until the merciful reliever\\n\\nInvokes the company receiver.', 'No one really seems to know\\n\\nThe rate at which consultants grow,\\n\\nBy some amoeba-like division?', 'Or chemo-biologic fission?', 'They clone themselves without an end\\n\\nAlong their exponential trend.', 'The paradox is each adviser,\\n\\nIf he makes his client wiser,\\n\\nInadvertently destroys\\n\\nThe basis of his future joys.', 'So does anybody know\\n\\nWhere latter-day consultants go?', 'Consultants are not crusaders bent on reforming management styles and assumptions.', 'But a professional diagnosis should include assessment of overall organizational effectiveness, and the consulting process should help lower whatever barriers to improvement are discovered.', 'Good advisers are practitioners, not preachers, but their practices are consistent with their beliefs.', 'When the consulting process stimulates experiments with more effective ways of managing, it can make its most valuable contribution to management practice.', 'More Emphasis on Process\\n\\nIncreasing consensus, commitment, learning, and future effectiveness are not proposed as substitutes for the more customary purposes of management consulting but as desirable outcomes of any really effective consulting process.', 'The extent to which they can be built into methods of achieving more traditional goals depends on the understanding and skill with which the whole consulting relationship is managed.', 'Such purposes have received more attention in organization development literature and in the writings of behavioral consultants than in the field of management consulting.', '(For recommended reading in these fields, see the sidebar, “Selected Readings.”) But behavioral objectives can best be achieved when integrated with more traditional approaches.', 'And clients have a right to expect that all management consultants, whatever their specialty, are sensitive to human relationships and processes and skilled in improving the organization’s ability to solve future as well as present problems.', 'Selected Readings Works by behavioral scientists or about behavioral consulting: Chris Argyris, Intervention Theory and Method (Reading, Mass.', ': Addison-Wesley, 1970).', 'Chris Argyris and Donald A. Schon, Organizational Learning: A Theory of Action Perspective (Reading, Mass.', ': Addison-Wesley, 1978).', 'Michael Beer, Organizational Change and Development: A Systems View (Santa Monica, Calif.: Goodyear, 1980).', 'Peter Block, Flawless Consulting: A Guide to Getting Your Expertise Used (Austin, Texas: Learning Concepts, 1981).', 'David Kolb and Alan L. Frohman, “An Organization Development Approach to Consulting,” Sloan Management Review, Fall 1970, p. 51.', 'John P. Kotter, Organizational Dynamics: Diagnosis and Intervention (Reading, Mass.', ': Addison-Wesley, 1978).', 'Gordon Lippitt and Ronald Lippitt, The Consulting Process in Action (La Jolla, Calif.: University Associates, 1978).', 'Edgar H. Schein, Process Consultation: Its Role in Organization Development (Reading, Mass.', ': Addison-Wesley, 1969).', 'Fritz Steele, Consulting for Organizational Change (Amherst: University of Massachusetts Press, 1975).', 'Works by management consultants or about management consulting: Larry E. Greiner and Robert O. Metzger, Consulting to Management (Englewood Cliffs, N.J.: Prentice-Hall, 1982).', 'Robert E. Kelley, Consulting (New York: Charles Scribner’s Sons, 1981).', 'Allan A. Kennedy, “One ‘Perspective’ on the Consulting Process,” Exchange: The Organizational Behavior Teaching Journal, Summer, 1979, p. 18 Allan A. Kennedy, “Ruminations on Change: The Incredible Value of Human Beings in Getting Things Done,” Exchange: The Organizational Behavior Teaching Journal, vol.', '6, no.', '1, 1981, p.4.', 'Milan Kubr, Management Consulting: A Guide to the Profession (Geneva: International Labour Office, rev.', 'ed., 1976).', 'Jeremiah J. O’Connell, Managing Organizational Innovation (Homewood, Ill.: Richard D. Irwin, Inc., 1968).', 'Robert H. Schaffer, “Advice to Internal and External Consultants: Expand Your Client’s Capacity to Use Your Help,” S.A.M.', 'Advanced Management Journal, Autumn 1976, p. 39.', 'Robert H. Schaffer, “Make Success the Building Block,” Management Review, August 1981, p. 46.', 'Seymour Tilles, “Understanding the Consultant’s Role,” HBR November–December 1961, p. 87.', 'The idea that consulting success depends solely on analytic expertise and on an ability to present convincing reports is losing ground, partly because there are now more people within organizations with the required analytic techniques than in the boom years of “strategy consulting.” Increasingly, the best management consultants define their objective as not just recommending solutions but also helping institutionalize more effective management processes.', 'This trend is significant to consulting firms because it requires process skills that need more emphasis in firms’ recruitment and staff development policies.', 'It is equally significant to managers who need not just expert advice but also practical help in improving the organization’s future performance.', 'As managers understand the broader range of purposes that excellent consulting can help achieve, they will select consultants more wisely and expect more of value from them.', 'And as clients learn how to express new needs, good consultants learn how to address them.', 'James H. Kennedy, ed., Directory of Management Consultants, (Fitzwilliam, N.H.: Consultant’s News, 1979).', 'See Jean Pierre Frankenhuis, “How to Get a Good Consultant,” HBR November–December 1977, p. 133.', 'For an excellent discussion of learning from consulting, see Fritz Steele, Consulting for Organizational Change (Amherst: University of Massachusetts Press, 1975), pp.', '11–33 and 190–200.']\n"
          ]
        }
      ]
    },
    {
      "cell_type": "code",
      "source": [
        "def greeting_response(text):\n",
        "  text = text.lower()\n",
        "\n",
        "# Bots greeting response\n",
        "  bot_greetings = ['hi', 'hey', 'hello', 'hola']\n",
        "\n",
        "#Users greeting\n",
        "  users_greetings = ['hi', 'hey', 'hello', 'hola', 'greetings', 'wassup']\n",
        "  for word in text.split():\n",
        "          for word in users_greetings:\n",
        "            return random.choice(bot_greetings)"
      ],
      "metadata": {
        "id": "B_9dQJBSJ3Vl"
      },
      "execution_count": 10,
      "outputs": []
    },
    {
      "cell_type": "code",
      "source": [
        "def index_sort(list_var):\n",
        "  length = len(list_var)\n",
        "  list_index = list(range(0, length))\n",
        "\n",
        "  x = list_var\n",
        "  for i in range(length):\n",
        "    for j in range(length):\n",
        "      if x[list_index[i]] > x[list_index[j]]:\n",
        "        #Swap\n",
        "        temp = list_index[i]\n",
        "        list_index[i] = list_index[j]\n",
        "        list_index[j] = temp\n",
        "\n",
        "  return list_index"
      ],
      "metadata": {
        "id": "dPouEj4bKB4l"
      },
      "execution_count": 11,
      "outputs": []
    },
    {
      "cell_type": "code",
      "source": [
        "def bot_response(user_input):\n",
        "  user_input = user_input.lower()\n",
        "  sentence_list.append(user_input)\n",
        "  bot_response = ''\n",
        "  cm = CounterVectorizer().fit_transform(sentence_list)\n",
        "  similarity_scores = cosine_similarity(cm[-1], cm)\n",
        "  similarity_scores_list = similarity_scores.flatten()\n",
        "  index = index_sort(similarity_scores_list)\n",
        "  index = index[1:]\n",
        "  response_flag = 0\n",
        "\n",
        "  j = 0\n",
        "  for i in range(len(index)):\n",
        "    if similarity_scores_list[index[i]] > 0.0:\n",
        "      bot_response = bot_response+'  '+sentence_list[index[i]]\n",
        "      response_flag = 1\n",
        "      j = j+1\n",
        "    if j > 2:\n",
        "      break\n",
        "    \n",
        "  if response_flag == 0:\n",
        "    bot_response = bot_response+'  '+\"I aplogize, I don't understand.\"\n",
        "\n",
        "\n",
        "  sentence_list.remove(user_input)\n",
        "\n",
        "  return bot_response"
      ],
      "metadata": {
        "id": "ctSDSl2pKER1"
      },
      "execution_count": 12,
      "outputs": []
    },
    {
      "cell_type": "code",
      "source": [
        "print('CodeClause Bot: I am your business advisor for short . I will answer your queries about our services . If you want to exist, then type bye. ')\n",
        "\n",
        "\n",
        "exit_list = ['exist', 'see you later', 'bye', 'quit', 'break']\n",
        "\n",
        "\n",
        "while(True):\n",
        "  user_input = input()\n",
        "  if user_input.lower() in exit_list:\n",
        "    print('CodeClause Bot: Chat with you later !')\n",
        "    break\n",
        "  else:\n",
        "    if greeting_response(user_input) != None:\n",
        "      print('CodeClause Bot: '+greeting_response(user_input))\n",
        "    else:\n",
        "      print('CodeClause Bot: '+bot_response(user_input))"
      ],
      "metadata": {
        "colab": {
          "base_uri": "https://localhost:8080/"
        },
        "id": "qW7a49RMKLjs",
        "outputId": "e0da9925-44eb-4dea-f469-17fc88aef589"
      },
      "execution_count": 13,
      "outputs": [
        {
          "output_type": "stream",
          "name": "stdout",
          "text": [
            "CodeClause Bot: I am your business advisor for short . I will answer your queries about our services . If you want to exist, then type bye. \n",
            "hi\n",
            "CodeClause Bot: hey\n",
            "bye\n",
            "CodeClause Bot: Chat with you later !\n"
          ]
        }
      ]
    }
  ]
}